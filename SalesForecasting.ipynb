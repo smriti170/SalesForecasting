{
 "cells": [
  {
   "cell_type": "code",
   "execution_count": null,
   "metadata": {},
   "outputs": [],
   "source": []
  },
  {
   "cell_type": "code",
   "execution_count": null,
   "metadata": {},
   "outputs": [],
   "source": [
    "import pandas as pd\n",
    "import numpy as np\n",
    "import matplotlib.pyplot as plt\n",
    "from statsmodels.tsa.arima.model import ARIMA\n",
    "from sklearn.metrics import mean_squared_error\n",
    "\n",
    "# Generate sample sales data\n",
    "np.random.seed(0)\n",
    "date_rng = pd.date_range(start='2020-01-01', end='2023-12-31', freq='M')\n",
    "sales_data = np.random.poisson(lam=200, size=len(date_rng)) + np.linspace(0, 50, len(date_rng))\n",
    "sales_df = pd.DataFrame(sales_data, index=date_rng, columns=['Sales'])\n",
    "\n",
    "# Visualize the sales data\n",
    "plt.figure(figsize=(12, 6))\n",
    "plt.plot(sales_df, label='Monthly Sales')\n",
    "plt.title('Sales Data')\n",
    "plt.xlabel('Date')\n",
    "plt.ylabel('Sales')\n",
    "plt.legend()\n",
    "plt.show()\n",
    "\n",
    "# Split the data into training and testing sets\n",
    "train_size = int(len(sales_df) * 0.8)\n",
    "train, test = sales_df.iloc[:train_size], sales_df.iloc[train_size:]\n",
    "\n",
    "# Fit the ARIMA model\n",
    "model = ARIMA(train, order=(5, 1, 0))  # You can tune the order based on ACF and PACF plots\n",
    "model_fit = model.fit()\n",
    "\n",
    "# Make predictions\n",
    "predictions = model_fit.forecast(steps=len(test))\n",
    "predictions = pd.Series(predictions, index=test.index)\n",
    "\n",
    "# Plot the predictions against the actual values\n",
    "plt.figure(figsize=(12, 6))\n",
    "plt.plot(train, label='Training Data')\n",
    "plt.plot(test, label='Actual Sales', color='orange')\n",
    "plt.plot(predictions, label='Predicted Sales', color='green')\n",
    "plt.title('Sales Forecasting')\n",
    "plt.xlabel('Date')\n",
    "plt.ylabel('Sales')\n",
    "plt.legend()\n",
    "plt.show()\n",
    "\n",
    "# Calculate the Mean Squared Error\n",
    "mse = mean_squared_error(test, predictions)\n",
    "print(f'Mean Squared Error: {mse}')"
   ]
  }
 ],
 "metadata": {
  "language_info": {
   "name": "python"
  }
 },
 "nbformat": 4,
 "nbformat_minor": 2
}
